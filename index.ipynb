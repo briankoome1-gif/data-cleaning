{
 "cells": [
  {
   "cell_type": "code",
   "execution_count": 251,
   "id": "fef10610",
   "metadata": {},
   "outputs": [],
   "source": [
    "import pandas as pd\n",
    "import csv\n",
    "\n",
    "\n"
   ]
  },
  {
   "cell_type": "code",
   "execution_count": 252,
   "id": "31101e2b",
   "metadata": {},
   "outputs": [
    {
     "data": {
      "text/html": [
       "<div>\n",
       "<style scoped>\n",
       "    .dataframe tbody tr th:only-of-type {\n",
       "        vertical-align: middle;\n",
       "    }\n",
       "\n",
       "    .dataframe tbody tr th {\n",
       "        vertical-align: top;\n",
       "    }\n",
       "\n",
       "    .dataframe thead th {\n",
       "        text-align: right;\n",
       "    }\n",
       "</style>\n",
       "<table border=\"1\" class=\"dataframe\">\n",
       "  <thead>\n",
       "    <tr style=\"text-align: right;\">\n",
       "      <th></th>\n",
       "      <th>Unnamed: 0</th>\n",
       "      <th>business_id</th>\n",
       "      <th>cool</th>\n",
       "      <th>date</th>\n",
       "      <th>funny</th>\n",
       "      <th>review_id</th>\n",
       "      <th>stars</th>\n",
       "      <th>text</th>\n",
       "      <th>useful</th>\n",
       "      <th>user_id</th>\n",
       "    </tr>\n",
       "  </thead>\n",
       "  <tbody>\n",
       "    <tr>\n",
       "      <th>0</th>\n",
       "      <td>1</td>\n",
       "      <td>pomGBqfbxcqPv14c3XH-ZQ</td>\n",
       "      <td>0</td>\n",
       "      <td>2012-11-13</td>\n",
       "      <td>0</td>\n",
       "      <td>dDl8zu1vWPdKGihJrwQbpw</td>\n",
       "      <td>5.0</td>\n",
       "      <td>I love this place! My fiance And I go here atl...</td>\n",
       "      <td>0</td>\n",
       "      <td>msQe1u7Z_XuqjGoqhB0J5g</td>\n",
       "    </tr>\n",
       "    <tr>\n",
       "      <th>1</th>\n",
       "      <td>2</td>\n",
       "      <td>jtQARsP6P-LbkyjbO1qNGg</td>\n",
       "      <td>1</td>\n",
       "      <td>2014-10-23</td>\n",
       "      <td>1</td>\n",
       "      <td>LZp4UX5zK3e-c5ZGSeo3kA</td>\n",
       "      <td>1.0</td>\n",
       "      <td>Terrible. Dry corn bread. Rib tips were all fa...</td>\n",
       "      <td>3</td>\n",
       "      <td>msQe1u7Z_XuqjGoqhB0J5g</td>\n",
       "    </tr>\n",
       "    <tr>\n",
       "      <th>2</th>\n",
       "      <td>4</td>\n",
       "      <td>Ums3gaP2qM3W1XcA5r6SsQ</td>\n",
       "      <td>0</td>\n",
       "      <td>2014-09-05</td>\n",
       "      <td>0</td>\n",
       "      <td>jsDu6QEJHbwP2Blom1PLCA</td>\n",
       "      <td>5.0</td>\n",
       "      <td>Delicious healthy food. The steak is amazing. ...</td>\n",
       "      <td>0</td>\n",
       "      <td>msQe1u7Z_XuqjGoqhB0J5g</td>\n",
       "    </tr>\n",
       "    <tr>\n",
       "      <th>3</th>\n",
       "      <td>5</td>\n",
       "      <td>vgfcTvK81oD4r50NMjU2Ag</td>\n",
       "      <td>0</td>\n",
       "      <td>2011-02-25</td>\n",
       "      <td>0</td>\n",
       "      <td>pfavA0hr3nyqO61oupj-lA</td>\n",
       "      <td>NaN</td>\n",
       "      <td>This place sucks. The customer service is horr...</td>\n",
       "      <td>2</td>\n",
       "      <td>msQe1u7Z_XuqjGoqhB0J5g</td>\n",
       "    </tr>\n",
       "    <tr>\n",
       "      <th>4</th>\n",
       "      <td>10</td>\n",
       "      <td>yFumR3CWzpfvTH2FCthvVw</td>\n",
       "      <td>0</td>\n",
       "      <td>2016-06-15</td>\n",
       "      <td>0</td>\n",
       "      <td>STiFMww2z31siPY7BWNC2g</td>\n",
       "      <td>5.0</td>\n",
       "      <td>I have been an Emerald Club member for a numbe...</td>\n",
       "      <td>0</td>\n",
       "      <td>TlvV-xJhmh7LCwJYXkV-cg</td>\n",
       "    </tr>\n",
       "  </tbody>\n",
       "</table>\n",
       "</div>"
      ],
      "text/plain": [
       "   Unnamed: 0             business_id cool        date  funny  \\\n",
       "0           1  pomGBqfbxcqPv14c3XH-ZQ    0  2012-11-13      0   \n",
       "1           2  jtQARsP6P-LbkyjbO1qNGg    1  2014-10-23      1   \n",
       "2           4  Ums3gaP2qM3W1XcA5r6SsQ    0  2014-09-05      0   \n",
       "3           5  vgfcTvK81oD4r50NMjU2Ag    0  2011-02-25      0   \n",
       "4          10  yFumR3CWzpfvTH2FCthvVw    0  2016-06-15      0   \n",
       "\n",
       "                review_id  stars  \\\n",
       "0  dDl8zu1vWPdKGihJrwQbpw    5.0   \n",
       "1  LZp4UX5zK3e-c5ZGSeo3kA    1.0   \n",
       "2  jsDu6QEJHbwP2Blom1PLCA    5.0   \n",
       "3  pfavA0hr3nyqO61oupj-lA    NaN   \n",
       "4  STiFMww2z31siPY7BWNC2g    5.0   \n",
       "\n",
       "                                                text  useful  \\\n",
       "0  I love this place! My fiance And I go here atl...       0   \n",
       "1  Terrible. Dry corn bread. Rib tips were all fa...       3   \n",
       "2  Delicious healthy food. The steak is amazing. ...       0   \n",
       "3  This place sucks. The customer service is horr...       2   \n",
       "4  I have been an Emerald Club member for a numbe...       0   \n",
       "\n",
       "                  user_id  \n",
       "0  msQe1u7Z_XuqjGoqhB0J5g  \n",
       "1  msQe1u7Z_XuqjGoqhB0J5g  \n",
       "2  msQe1u7Z_XuqjGoqhB0J5g  \n",
       "3  msQe1u7Z_XuqjGoqhB0J5g  \n",
       "4  TlvV-xJhmh7LCwJYXkV-cg  "
      ]
     },
     "execution_count": 252,
     "metadata": {},
     "output_type": "execute_result"
    }
   ],
   "source": [
    "with open(\"./data/Yelp_Reviews.csv\") as file:\n",
    "    df_yelp = pd.read_csv(file)\n",
    "\n",
    "df_yelp.head()"
   ]
  },
  {
   "cell_type": "code",
   "execution_count": 253,
   "id": "28d3392c",
   "metadata": {},
   "outputs": [
    {
     "name": "stdout",
     "output_type": "stream",
     "text": [
      "<class 'pandas.core.frame.DataFrame'>\n",
      "RangeIndex: 2610 entries, 0 to 2609\n",
      "Data columns (total 10 columns):\n",
      " #   Column       Non-Null Count  Dtype  \n",
      "---  ------       --------------  -----  \n",
      " 0   Unnamed: 0   2610 non-null   int64  \n",
      " 1   business_id  2610 non-null   object \n",
      " 2   cool         2608 non-null   object \n",
      " 3   date         2610 non-null   object \n",
      " 4   funny        2610 non-null   int64  \n",
      " 5   review_id    2610 non-null   object \n",
      " 6   stars        2607 non-null   float64\n",
      " 7   text         2610 non-null   object \n",
      " 8   useful       2610 non-null   int64  \n",
      " 9   user_id      2610 non-null   object \n",
      "dtypes: float64(1), int64(3), object(6)\n",
      "memory usage: 204.0+ KB\n"
     ]
    }
   ],
   "source": [
    "df_yelp.info()"
   ]
  },
  {
   "cell_type": "code",
   "execution_count": 254,
   "id": "4e035a23",
   "metadata": {},
   "outputs": [
    {
     "data": {
      "text/plain": [
       "(2610, 10)"
      ]
     },
     "execution_count": 254,
     "metadata": {},
     "output_type": "execute_result"
    }
   ],
   "source": [
    "df_yelp.shape\n"
   ]
  },
  {
   "cell_type": "code",
   "execution_count": 255,
   "id": "3b9866b8",
   "metadata": {},
   "outputs": [
    {
     "data": {
      "text/html": [
       "<div>\n",
       "<style scoped>\n",
       "    .dataframe tbody tr th:only-of-type {\n",
       "        vertical-align: middle;\n",
       "    }\n",
       "\n",
       "    .dataframe tbody tr th {\n",
       "        vertical-align: top;\n",
       "    }\n",
       "\n",
       "    .dataframe thead th {\n",
       "        text-align: right;\n",
       "    }\n",
       "</style>\n",
       "<table border=\"1\" class=\"dataframe\">\n",
       "  <thead>\n",
       "    <tr style=\"text-align: right;\">\n",
       "      <th></th>\n",
       "      <th>Unnamed: 0</th>\n",
       "      <th>business_id</th>\n",
       "      <th>cool</th>\n",
       "      <th>date</th>\n",
       "      <th>funny</th>\n",
       "      <th>review_id</th>\n",
       "      <th>stars</th>\n",
       "      <th>text</th>\n",
       "      <th>useful</th>\n",
       "      <th>user_id</th>\n",
       "      <th>Review_Word_Length</th>\n",
       "    </tr>\n",
       "  </thead>\n",
       "  <tbody>\n",
       "    <tr>\n",
       "      <th>0</th>\n",
       "      <td>1</td>\n",
       "      <td>pomGBqfbxcqPv14c3XH-ZQ</td>\n",
       "      <td>0</td>\n",
       "      <td>2012-11-13</td>\n",
       "      <td>0</td>\n",
       "      <td>dDl8zu1vWPdKGihJrwQbpw</td>\n",
       "      <td>5.0</td>\n",
       "      <td>I love this place! My fiance And I go here atl...</td>\n",
       "      <td>0</td>\n",
       "      <td>msQe1u7Z_XuqjGoqhB0J5g</td>\n",
       "      <td>58</td>\n",
       "    </tr>\n",
       "    <tr>\n",
       "      <th>1</th>\n",
       "      <td>2</td>\n",
       "      <td>jtQARsP6P-LbkyjbO1qNGg</td>\n",
       "      <td>1</td>\n",
       "      <td>2014-10-23</td>\n",
       "      <td>1</td>\n",
       "      <td>LZp4UX5zK3e-c5ZGSeo3kA</td>\n",
       "      <td>1.0</td>\n",
       "      <td>Terrible. Dry corn bread. Rib tips were all fa...</td>\n",
       "      <td>3</td>\n",
       "      <td>msQe1u7Z_XuqjGoqhB0J5g</td>\n",
       "      <td>30</td>\n",
       "    </tr>\n",
       "    <tr>\n",
       "      <th>2</th>\n",
       "      <td>4</td>\n",
       "      <td>Ums3gaP2qM3W1XcA5r6SsQ</td>\n",
       "      <td>0</td>\n",
       "      <td>2014-09-05</td>\n",
       "      <td>0</td>\n",
       "      <td>jsDu6QEJHbwP2Blom1PLCA</td>\n",
       "      <td>5.0</td>\n",
       "      <td>Delicious healthy food. The steak is amazing. ...</td>\n",
       "      <td>0</td>\n",
       "      <td>msQe1u7Z_XuqjGoqhB0J5g</td>\n",
       "      <td>30</td>\n",
       "    </tr>\n",
       "    <tr>\n",
       "      <th>3</th>\n",
       "      <td>5</td>\n",
       "      <td>vgfcTvK81oD4r50NMjU2Ag</td>\n",
       "      <td>0</td>\n",
       "      <td>2011-02-25</td>\n",
       "      <td>0</td>\n",
       "      <td>pfavA0hr3nyqO61oupj-lA</td>\n",
       "      <td>NaN</td>\n",
       "      <td>This place sucks. The customer service is horr...</td>\n",
       "      <td>2</td>\n",
       "      <td>msQe1u7Z_XuqjGoqhB0J5g</td>\n",
       "      <td>82</td>\n",
       "    </tr>\n",
       "    <tr>\n",
       "      <th>4</th>\n",
       "      <td>10</td>\n",
       "      <td>yFumR3CWzpfvTH2FCthvVw</td>\n",
       "      <td>0</td>\n",
       "      <td>2016-06-15</td>\n",
       "      <td>0</td>\n",
       "      <td>STiFMww2z31siPY7BWNC2g</td>\n",
       "      <td>5.0</td>\n",
       "      <td>I have been an Emerald Club member for a numbe...</td>\n",
       "      <td>0</td>\n",
       "      <td>TlvV-xJhmh7LCwJYXkV-cg</td>\n",
       "      <td>32</td>\n",
       "    </tr>\n",
       "  </tbody>\n",
       "</table>\n",
       "</div>"
      ],
      "text/plain": [
       "   Unnamed: 0             business_id cool        date  funny  \\\n",
       "0           1  pomGBqfbxcqPv14c3XH-ZQ    0  2012-11-13      0   \n",
       "1           2  jtQARsP6P-LbkyjbO1qNGg    1  2014-10-23      1   \n",
       "2           4  Ums3gaP2qM3W1XcA5r6SsQ    0  2014-09-05      0   \n",
       "3           5  vgfcTvK81oD4r50NMjU2Ag    0  2011-02-25      0   \n",
       "4          10  yFumR3CWzpfvTH2FCthvVw    0  2016-06-15      0   \n",
       "\n",
       "                review_id  stars  \\\n",
       "0  dDl8zu1vWPdKGihJrwQbpw    5.0   \n",
       "1  LZp4UX5zK3e-c5ZGSeo3kA    1.0   \n",
       "2  jsDu6QEJHbwP2Blom1PLCA    5.0   \n",
       "3  pfavA0hr3nyqO61oupj-lA    NaN   \n",
       "4  STiFMww2z31siPY7BWNC2g    5.0   \n",
       "\n",
       "                                                text  useful  \\\n",
       "0  I love this place! My fiance And I go here atl...       0   \n",
       "1  Terrible. Dry corn bread. Rib tips were all fa...       3   \n",
       "2  Delicious healthy food. The steak is amazing. ...       0   \n",
       "3  This place sucks. The customer service is horr...       2   \n",
       "4  I have been an Emerald Club member for a numbe...       0   \n",
       "\n",
       "                  user_id  Review_Word_Length  \n",
       "0  msQe1u7Z_XuqjGoqhB0J5g                  58  \n",
       "1  msQe1u7Z_XuqjGoqhB0J5g                  30  \n",
       "2  msQe1u7Z_XuqjGoqhB0J5g                  30  \n",
       "3  msQe1u7Z_XuqjGoqhB0J5g                  82  \n",
       "4  TlvV-xJhmh7LCwJYXkV-cg                  32  "
      ]
     },
     "execution_count": 255,
     "metadata": {},
     "output_type": "execute_result"
    }
   ],
   "source": [
    "df_yelp['Review_Word_Length'] = df_yelp['text'].map(lambda x: len(x.split()))\n",
    "df_yelp.head()"
   ]
  },
  {
   "cell_type": "code",
   "execution_count": 256,
   "id": "6d0763d1",
   "metadata": {},
   "outputs": [
    {
     "data": {
      "text/plain": [
       "0        58\n",
       "1        30\n",
       "2        30\n",
       "3        82\n",
       "4        32\n",
       "       ... \n",
       "2605     61\n",
       "2606     43\n",
       "2607     79\n",
       "2608    185\n",
       "2609     42\n",
       "Name: text, Length: 2610, dtype: int64"
      ]
     },
     "execution_count": 256,
     "metadata": {},
     "output_type": "execute_result"
    }
   ],
   "source": [
    "#\n",
    "df_yelp[\"text\"].apply(lambda text: len(text.split()))"
   ]
  },
  {
   "cell_type": "code",
   "execution_count": 257,
   "id": "89bb9d63",
   "metadata": {},
   "outputs": [
    {
     "data": {
      "text/plain": [
       "(2610, 11)"
      ]
     },
     "execution_count": 257,
     "metadata": {},
     "output_type": "execute_result"
    }
   ],
   "source": [
    "df_yelp.shape"
   ]
  },
  {
   "cell_type": "code",
   "execution_count": 258,
   "id": "e1920d55",
   "metadata": {},
   "outputs": [
    {
     "name": "stdout",
     "output_type": "stream",
     "text": [
      "<class 'pandas.core.frame.DataFrame'>\n",
      "RangeIndex: 2610 entries, 0 to 2609\n",
      "Data columns (total 11 columns):\n",
      " #   Column              Non-Null Count  Dtype  \n",
      "---  ------              --------------  -----  \n",
      " 0   Unnamed: 0          2610 non-null   int64  \n",
      " 1   business_id         2610 non-null   object \n",
      " 2   cool                2608 non-null   object \n",
      " 3   date                2610 non-null   object \n",
      " 4   funny               2610 non-null   int64  \n",
      " 5   review_id           2610 non-null   object \n",
      " 6   stars               2607 non-null   float64\n",
      " 7   text                2610 non-null   object \n",
      " 8   useful              2610 non-null   int64  \n",
      " 9   user_id             2610 non-null   object \n",
      " 10  Review_Word_Length  2610 non-null   int64  \n",
      "dtypes: float64(1), int64(4), object(6)\n",
      "memory usage: 224.4+ KB\n"
     ]
    }
   ],
   "source": [
    "df_yelp.info()"
   ]
  },
  {
   "cell_type": "code",
   "execution_count": 259,
   "id": "51d4056b",
   "metadata": {},
   "outputs": [
    {
     "name": "stdout",
     "output_type": "stream",
     "text": [
      "      Unnamed: 0             business_id cool        date  funny  \\\n",
      "0              1  pomGBqfbxcqPv14c3XH-ZQ    0  2012-11-13      0   \n",
      "1              2  jtQARsP6P-LbkyjbO1qNGg    1  2014-10-23      1   \n",
      "2              4  Ums3gaP2qM3W1XcA5r6SsQ    0  2014-09-05      0   \n",
      "3              5  vgfcTvK81oD4r50NMjU2Ag    0  2011-02-25      0   \n",
      "4             10  yFumR3CWzpfvTH2FCthvVw    0  2016-06-15      0   \n",
      "...          ...                     ...  ...         ...    ...   \n",
      "2605         689  BTcY04QFiS1uh-RpkR7rAg    1  2013-06-02      0   \n",
      "2606        4874  t0T_4MM4EUHbCzBTF11FHA    0  2016-08-14      0   \n",
      "2607         564  5XYR6doRa5Nj1JMfSDei6A    1  2016-06-14      0   \n",
      "2608        3458  aLcFhMe6DDJ430zelCpd2A    0  2013-10-02      0   \n",
      "2609        4206  WdBWhGe4Siqg3IYTc4_K4A    0  2016-08-15      0   \n",
      "\n",
      "                   review_id  stars  \\\n",
      "0     dDl8zu1vWPdKGihJrwQbpw    5.0   \n",
      "1     LZp4UX5zK3e-c5ZGSeo3kA    1.0   \n",
      "2     jsDu6QEJHbwP2Blom1PLCA    5.0   \n",
      "3     pfavA0hr3nyqO61oupj-lA    NaN   \n",
      "4     STiFMww2z31siPY7BWNC2g    5.0   \n",
      "...                      ...    ...   \n",
      "2605  6_A58CCY8SHB7r-Wu7-A5g    5.0   \n",
      "2606  KqQwNyfoFiJOw911mrULIg    5.0   \n",
      "2607  xlGJkxoIBl8XH8wVsPZpnw    5.0   \n",
      "2608  kwiEG_KCpDB6aK5fTSM7iw    2.0   \n",
      "2609  O0ttxNGxHKtD8Cnnwc_j1g    1.0   \n",
      "\n",
      "                                                   text  useful  \\\n",
      "0     I love this place! My fiance And I go here atl...       0   \n",
      "1     Terrible. Dry corn bread. Rib tips were all fa...       3   \n",
      "2     Delicious healthy food. The steak is amazing. ...       0   \n",
      "3     This place sucks. The customer service is horr...       2   \n",
      "4     I have been an Emerald Club member for a numbe...       0   \n",
      "...                                                 ...     ...   \n",
      "2605  Came here with my 2 year old daughter for our ...       2   \n",
      "2606  Great little restaurant. Not to many tables an...       0   \n",
      "2607  Always great friendly service and fresh baked ...       0   \n",
      "2608  We were expecting amazing Thai food after all ...       1   \n",
      "2609  Sunday at 8p. Not many people here at all. We ...       0   \n",
      "\n",
      "                     user_id  Review_Word_Length  \n",
      "0     msQe1u7Z_XuqjGoqhB0J5g                  58  \n",
      "1     msQe1u7Z_XuqjGoqhB0J5g                  30  \n",
      "2     msQe1u7Z_XuqjGoqhB0J5g                  30  \n",
      "3     msQe1u7Z_XuqjGoqhB0J5g                  82  \n",
      "4     TlvV-xJhmh7LCwJYXkV-cg                  32  \n",
      "...                      ...                 ...  \n",
      "2605  q3AiAe-AcpDrNsdZf8nCvQ                  61  \n",
      "2606  NJxaA7q9BhqaDrFpfR2Jeg                  43  \n",
      "2607  kBNFdviedCPFWyR-wVaAzw                  79  \n",
      "2608  PkRFSQgSfca9Tamq7b2LdQ                 185  \n",
      "2609  ic9zIsm7zoxUm3Axyegx8g                  42  \n",
      "\n",
      "[2610 rows x 11 columns]\n"
     ]
    }
   ],
   "source": [
    "print(df_yelp)"
   ]
  },
  {
   "cell_type": "code",
   "execution_count": 260,
   "id": "bd359fe6",
   "metadata": {},
   "outputs": [],
   "source": [
    "def sentiment(rating):\n",
    "    if rating > 3:\n",
    "        return \"positive\"\n",
    "    else:\n",
    "            return \"negative\""
   ]
  },
  {
   "cell_type": "code",
   "execution_count": 261,
   "id": "4481919e",
   "metadata": {},
   "outputs": [],
   "source": [
    "df_yelp[\"sentiment\"] = df_yelp[\"stars\"].apply(lambda rating: \"\")"
   ]
  },
  {
   "cell_type": "code",
   "execution_count": 262,
   "id": "993b1d04",
   "metadata": {},
   "outputs": [
    {
     "data": {
      "text/plain": [
       "333"
      ]
     },
     "execution_count": 262,
     "metadata": {},
     "output_type": "execute_result"
    }
   ],
   "source": [
    "#check for duplicates\n",
    "df_duplicated = df_yelp.duplicated().sum()\n",
    "df_duplicated"
   ]
  },
  {
   "cell_type": "code",
   "execution_count": 263,
   "id": "97657999",
   "metadata": {},
   "outputs": [
    {
     "data": {
      "text/plain": [
       "False    2277\n",
       "True      333\n",
       "dtype: int64"
      ]
     },
     "execution_count": 263,
     "metadata": {},
     "output_type": "execute_result"
    }
   ],
   "source": [
    "#view duplicates\n",
    "df_yelp.duplicated().value_counts()"
   ]
  },
  {
   "cell_type": "code",
   "execution_count": null,
   "id": "ebb93456",
   "metadata": {},
   "outputs": [],
   "source": [
    "#removing duplicated values\n",
    "#df_yelp = df_yelp.drop_duplicates()"
   ]
  },
  {
   "cell_type": "code",
   "execution_count": 265,
   "id": "1d03634f",
   "metadata": {},
   "outputs": [
    {
     "data": {
      "text/plain": [
       "False    2277\n",
       "dtype: int64"
      ]
     },
     "execution_count": 265,
     "metadata": {},
     "output_type": "execute_result"
    }
   ],
   "source": [
    "#verify they have been removed \n",
    "df_yelp.duplicated().value_counts()"
   ]
  },
  {
   "cell_type": "code",
   "execution_count": 266,
   "id": "0e7ae3bd",
   "metadata": {},
   "outputs": [
    {
     "data": {
      "text/html": [
       "<div>\n",
       "<style scoped>\n",
       "    .dataframe tbody tr th:only-of-type {\n",
       "        vertical-align: middle;\n",
       "    }\n",
       "\n",
       "    .dataframe tbody tr th {\n",
       "        vertical-align: top;\n",
       "    }\n",
       "\n",
       "    .dataframe thead th {\n",
       "        text-align: right;\n",
       "    }\n",
       "</style>\n",
       "<table border=\"1\" class=\"dataframe\">\n",
       "  <thead>\n",
       "    <tr style=\"text-align: right;\">\n",
       "      <th></th>\n",
       "      <th>PassengerId</th>\n",
       "      <th>Survived</th>\n",
       "      <th>Pclass</th>\n",
       "      <th>Name</th>\n",
       "      <th>Sex</th>\n",
       "      <th>Age</th>\n",
       "      <th>SibSp</th>\n",
       "      <th>Parch</th>\n",
       "      <th>Ticket</th>\n",
       "      <th>Fare</th>\n",
       "      <th>Cabin</th>\n",
       "      <th>Embarked</th>\n",
       "    </tr>\n",
       "  </thead>\n",
       "  <tbody>\n",
       "    <tr>\n",
       "      <th>0</th>\n",
       "      <td>1.0</td>\n",
       "      <td>0.0</td>\n",
       "      <td>3</td>\n",
       "      <td>Braund, Mr. Owen Harris</td>\n",
       "      <td>male</td>\n",
       "      <td>22.0</td>\n",
       "      <td>1.0</td>\n",
       "      <td>0.0</td>\n",
       "      <td>A/5 21171</td>\n",
       "      <td>7.2500</td>\n",
       "      <td>NaN</td>\n",
       "      <td>S</td>\n",
       "    </tr>\n",
       "    <tr>\n",
       "      <th>1</th>\n",
       "      <td>2.0</td>\n",
       "      <td>1.0</td>\n",
       "      <td>1</td>\n",
       "      <td>Cumings, Mrs. John Bradley (Florence Briggs Th...</td>\n",
       "      <td>female</td>\n",
       "      <td>38.0</td>\n",
       "      <td>1.0</td>\n",
       "      <td>0.0</td>\n",
       "      <td>PC 17599</td>\n",
       "      <td>71.2833</td>\n",
       "      <td>C85</td>\n",
       "      <td>C</td>\n",
       "    </tr>\n",
       "    <tr>\n",
       "      <th>2</th>\n",
       "      <td>3.0</td>\n",
       "      <td>1.0</td>\n",
       "      <td>3</td>\n",
       "      <td>Heikkinen, Miss. Laina</td>\n",
       "      <td>female</td>\n",
       "      <td>26.0</td>\n",
       "      <td>0.0</td>\n",
       "      <td>0.0</td>\n",
       "      <td>STON/O2. 3101282</td>\n",
       "      <td>7.9250</td>\n",
       "      <td>NaN</td>\n",
       "      <td>S</td>\n",
       "    </tr>\n",
       "    <tr>\n",
       "      <th>3</th>\n",
       "      <td>4.0</td>\n",
       "      <td>1.0</td>\n",
       "      <td>1</td>\n",
       "      <td>Futrelle, Mrs. Jacques Heath (Lily May Peel)</td>\n",
       "      <td>female</td>\n",
       "      <td>35.0</td>\n",
       "      <td>1.0</td>\n",
       "      <td>0.0</td>\n",
       "      <td>113803</td>\n",
       "      <td>53.1000</td>\n",
       "      <td>C123</td>\n",
       "      <td>S</td>\n",
       "    </tr>\n",
       "    <tr>\n",
       "      <th>4</th>\n",
       "      <td>5.0</td>\n",
       "      <td>0.0</td>\n",
       "      <td>3</td>\n",
       "      <td>Allen, Mr. William Henry</td>\n",
       "      <td>male</td>\n",
       "      <td>35.0</td>\n",
       "      <td>0.0</td>\n",
       "      <td>0.0</td>\n",
       "      <td>373450</td>\n",
       "      <td>8.0500</td>\n",
       "      <td>NaN</td>\n",
       "      <td>S</td>\n",
       "    </tr>\n",
       "  </tbody>\n",
       "</table>\n",
       "</div>"
      ],
      "text/plain": [
       "   PassengerId  Survived Pclass  \\\n",
       "0          1.0       0.0      3   \n",
       "1          2.0       1.0      1   \n",
       "2          3.0       1.0      3   \n",
       "3          4.0       1.0      1   \n",
       "4          5.0       0.0      3   \n",
       "\n",
       "                                                Name     Sex   Age  SibSp  \\\n",
       "0                            Braund, Mr. Owen Harris    male  22.0    1.0   \n",
       "1  Cumings, Mrs. John Bradley (Florence Briggs Th...  female  38.0    1.0   \n",
       "2                             Heikkinen, Miss. Laina  female  26.0    0.0   \n",
       "3       Futrelle, Mrs. Jacques Heath (Lily May Peel)  female  35.0    1.0   \n",
       "4                           Allen, Mr. William Henry    male  35.0    0.0   \n",
       "\n",
       "   Parch            Ticket     Fare Cabin Embarked  \n",
       "0    0.0         A/5 21171   7.2500   NaN        S  \n",
       "1    0.0          PC 17599  71.2833   C85        C  \n",
       "2    0.0  STON/O2. 3101282   7.9250   NaN        S  \n",
       "3    0.0            113803  53.1000  C123        S  \n",
       "4    0.0            373450   8.0500   NaN        S  "
      ]
     },
     "execution_count": 266,
     "metadata": {},
     "output_type": "execute_result"
    }
   ],
   "source": [
    "#data loading for titanic data set\n",
    "df_titanic = pd.read_csv(\"./data/titanic.csv\")\n",
    "df_titanic.head()"
   ]
  },
  {
   "cell_type": "code",
   "execution_count": 267,
   "id": "c0d691cd",
   "metadata": {},
   "outputs": [
    {
     "name": "stdout",
     "output_type": "stream",
     "text": [
      "<class 'pandas.core.frame.DataFrame'>\n",
      "RangeIndex: 1391 entries, 0 to 1390\n",
      "Data columns (total 12 columns):\n",
      " #   Column       Non-Null Count  Dtype  \n",
      "---  ------       --------------  -----  \n",
      " 0   PassengerId  1391 non-null   float64\n",
      " 1   Survived     1391 non-null   float64\n",
      " 2   Pclass       1391 non-null   object \n",
      " 3   Name         1391 non-null   object \n",
      " 4   Sex          1391 non-null   object \n",
      " 5   Age          1209 non-null   float64\n",
      " 6   SibSp        1391 non-null   float64\n",
      " 7   Parch        1391 non-null   float64\n",
      " 8   Ticket       1391 non-null   object \n",
      " 9   Fare         1391 non-null   float64\n",
      " 10  Cabin        602 non-null    object \n",
      " 11  Embarked     1289 non-null   object \n",
      "dtypes: float64(6), object(6)\n",
      "memory usage: 130.5+ KB\n"
     ]
    }
   ],
   "source": [
    "#info\n",
    "df_titanic.info()"
   ]
  },
  {
   "cell_type": "code",
   "execution_count": 268,
   "id": "bf90a07f",
   "metadata": {},
   "outputs": [
    {
     "data": {
      "text/plain": [
       "PassengerId      0\n",
       "Survived         0\n",
       "Pclass           0\n",
       "Name             0\n",
       "Sex              0\n",
       "Age            182\n",
       "SibSp            0\n",
       "Parch            0\n",
       "Ticket           0\n",
       "Fare             0\n",
       "Cabin          789\n",
       "Embarked       102\n",
       "dtype: int64"
      ]
     },
     "execution_count": 268,
     "metadata": {},
     "output_type": "execute_result"
    }
   ],
   "source": [
    "# detecting null values\n",
    "#isnull\n",
    "df_titanic.isna().sum()"
   ]
  },
  {
   "cell_type": "code",
   "execution_count": 269,
   "id": "596e685e",
   "metadata": {},
   "outputs": [],
   "source": [
    "# strategies for dealing w missing data removing  _mean _mode _median - "
   ]
  },
  {
   "cell_type": "code",
   "execution_count": 270,
   "id": "9a5c2d7b",
   "metadata": {},
   "outputs": [],
   "source": [
    "#dropping and reassign\n",
    "df_titanic = df_titanic.drop(\"Cabin\",axis=1)"
   ]
  },
  {
   "cell_type": "code",
   "execution_count": 271,
   "id": "edd02d59",
   "metadata": {},
   "outputs": [
    {
     "data": {
      "text/plain": [
       "PassengerId      0\n",
       "Survived         0\n",
       "Pclass           0\n",
       "Name             0\n",
       "Sex              0\n",
       "Age            182\n",
       "SibSp            0\n",
       "Parch            0\n",
       "Ticket           0\n",
       "Fare             0\n",
       "Embarked       102\n",
       "dtype: int64"
      ]
     },
     "execution_count": 271,
     "metadata": {},
     "output_type": "execute_result"
    }
   ],
   "source": [
    "df_titanic.isna().sum()"
   ]
  },
  {
   "cell_type": "code",
   "execution_count": 272,
   "id": "d33e482f",
   "metadata": {},
   "outputs": [],
   "source": [
    "#dropping inplace\n",
    "# dropna(axis=0) - drop rows with null values\n",
    "# dropna(axis=1) - drop columns with null values\n",
    "#inplace=True - make changes to original dataframe\n",
    "# not advisable though"
   ]
  },
  {
   "cell_type": "code",
   "execution_count": 273,
   "id": "2c629bc2",
   "metadata": {},
   "outputs": [],
   "source": [
    "#df_titanic.dropna(axis=0,inplace=True)\n",
    "#df_titanic.info()"
   ]
  },
  {
   "cell_type": "code",
   "execution_count": 274,
   "id": "fad6a8c1",
   "metadata": {},
   "outputs": [
    {
     "data": {
      "text/plain": [
       "PassengerId      0\n",
       "Survived         0\n",
       "Pclass           0\n",
       "Name             0\n",
       "Sex              0\n",
       "Age            182\n",
       "SibSp            0\n",
       "Parch            0\n",
       "Ticket           0\n",
       "Fare             0\n",
       "Embarked       102\n",
       "dtype: int64"
      ]
     },
     "execution_count": 274,
     "metadata": {},
     "output_type": "execute_result"
    }
   ],
   "source": [
    "# recheck for null values\n",
    "df_titanic.isna().sum()"
   ]
  },
  {
   "cell_type": "code",
   "execution_count": 275,
   "id": "b5d3c7df",
   "metadata": {},
   "outputs": [],
   "source": [
    "#df_titanic.dropna(axis=1,inplace=True)\n",
    "\n",
    "#df_titanic.info()"
   ]
  },
  {
   "cell_type": "code",
   "execution_count": 276,
   "id": "521b7169",
   "metadata": {},
   "outputs": [
    {
     "data": {
      "text/plain": [
       "PassengerId      0\n",
       "Survived         0\n",
       "Pclass           0\n",
       "Name             0\n",
       "Sex              0\n",
       "Age            182\n",
       "SibSp            0\n",
       "Parch            0\n",
       "Ticket           0\n",
       "Fare             0\n",
       "Embarked       102\n",
       "dtype: int64"
      ]
     },
     "execution_count": 276,
     "metadata": {},
     "output_type": "execute_result"
    }
   ],
   "source": [
    "df_titanic.isna().sum() "
   ]
  },
  {
   "cell_type": "code",
   "execution_count": 277,
   "id": "bedaa35e",
   "metadata": {},
   "outputs": [
    {
     "data": {
      "text/plain": [
       "27.0"
      ]
     },
     "execution_count": 277,
     "metadata": {},
     "output_type": "execute_result"
    }
   ],
   "source": [
    "age_median = df_titanic[\"Age\"].median()\n",
    "age_median"
   ]
  },
  {
   "cell_type": "code",
   "execution_count": 278,
   "id": "9ebab5ee",
   "metadata": {},
   "outputs": [],
   "source": [
    "#replacing missing values with median\n",
    "df_titanic[\"Age\"] = df_titanic[\"Age\"].fillna(age_median)"
   ]
  },
  {
   "cell_type": "code",
   "execution_count": 280,
   "id": "751eeba9",
   "metadata": {},
   "outputs": [
    {
     "data": {
      "text/plain": [
       "PassengerId      0\n",
       "Survived         0\n",
       "Pclass           0\n",
       "Name             0\n",
       "Sex              0\n",
       "Age              0\n",
       "SibSp            0\n",
       "Parch            0\n",
       "Ticket           0\n",
       "Fare             0\n",
       "Embarked       102\n",
       "dtype: int64"
      ]
     },
     "execution_count": 280,
     "metadata": {},
     "output_type": "execute_result"
    }
   ],
   "source": [
    "#replacing missing values with mode \n",
    "df_titanic.isna().sum()"
   ]
  },
  {
   "cell_type": "code",
   "execution_count": 281,
   "id": "c623327f",
   "metadata": {},
   "outputs": [
    {
     "data": {
      "text/plain": [
       "S    830\n",
       "C    285\n",
       "Q    174\n",
       "Name: Embarked, dtype: int64"
      ]
     },
     "execution_count": 281,
     "metadata": {},
     "output_type": "execute_result"
    }
   ],
   "source": [
    "df_titanic[\"Embarked\"].value_counts()"
   ]
  },
  {
   "cell_type": "code",
   "execution_count": 282,
   "id": "41a9364b",
   "metadata": {},
   "outputs": [
    {
     "data": {
      "text/plain": [
       "0    S\n",
       "dtype: object"
      ]
     },
     "execution_count": 282,
     "metadata": {},
     "output_type": "execute_result"
    }
   ],
   "source": [
    "embarked_mode = df_titanic[\"Embarked\"].mode(0)\n",
    "embarked_mode"
   ]
  },
  {
   "cell_type": "code",
   "execution_count": 283,
   "id": "20d51019",
   "metadata": {},
   "outputs": [],
   "source": [
    "df_titanic[\"Embarked\"]= df_titanic[\"Embarked\"].fillna(embarked_mode[0])"
   ]
  },
  {
   "cell_type": "code",
   "execution_count": 284,
   "id": "87284590",
   "metadata": {},
   "outputs": [
    {
     "data": {
      "text/plain": [
       "PassengerId    0\n",
       "Survived       0\n",
       "Pclass         0\n",
       "Name           0\n",
       "Sex            0\n",
       "Age            0\n",
       "SibSp          0\n",
       "Parch          0\n",
       "Ticket         0\n",
       "Fare           0\n",
       "Embarked       0\n",
       "dtype: int64"
      ]
     },
     "execution_count": 284,
     "metadata": {},
     "output_type": "execute_result"
    }
   ],
   "source": [
    "df_titanic.isna().sum()"
   ]
  }
 ],
 "metadata": {
  "kernelspec": {
   "display_name": "learn-env",
   "language": "python",
   "name": "python3"
  },
  "language_info": {
   "codemirror_mode": {
    "name": "ipython",
    "version": 3
   },
   "file_extension": ".py",
   "mimetype": "text/x-python",
   "name": "python",
   "nbconvert_exporter": "python",
   "pygments_lexer": "ipython3",
   "version": "3.8.5"
  }
 },
 "nbformat": 4,
 "nbformat_minor": 5
}
